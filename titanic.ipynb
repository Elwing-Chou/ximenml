{
  "nbformat": 4,
  "nbformat_minor": 0,
  "metadata": {
    "colab": {
      "name": "titanic.ipynb",
      "provenance": []
    },
    "kernelspec": {
      "name": "python3",
      "display_name": "Python 3"
    }
  },
  "cells": [
    {
      "cell_type": "code",
      "metadata": {
        "id": "Nu9c0Qqb2zVE",
        "colab_type": "code",
        "colab": {}
      },
      "source": [
        "import pandas as pd\n",
        "train_df = pd.read_csv(\"train.csv\", encoding=\"utf-8\")\n",
        "train_df"
      ],
      "execution_count": null,
      "outputs": []
    },
    {
      "cell_type": "code",
      "metadata": {
        "id": "5Oxrd0SA3nI3",
        "colab_type": "code",
        "colab": {}
      },
      "source": [
        "test_df = pd.read_csv(\"test.csv\", encoding=\"utf-8\")\n",
        "test_df"
      ],
      "execution_count": null,
      "outputs": []
    },
    {
      "cell_type": "code",
      "metadata": {
        "id": "I-Z8fn6uA_7V",
        "colab_type": "code",
        "colab": {
          "base_uri": "https://localhost:8080/",
          "height": 85
        },
        "outputId": "ee2aa673-8d7e-4305-dcf0-d44592291456"
      },
      "source": [
        "s = train_df.isna().sum()\n",
        "# filter: 帶入跟資料大小依樣的true/false, true:留 false:滾\n",
        "s[s > 0].sort_values(ascending=False)"
      ],
      "execution_count": 8,
      "outputs": [
        {
          "output_type": "execute_result",
          "data": {
            "text/plain": [
              "Cabin       687\n",
              "Age         177\n",
              "Embarked      2\n",
              "dtype: int64"
            ]
          },
          "metadata": {
            "tags": []
          },
          "execution_count": 8
        }
      ]
    },
    {
      "cell_type": "code",
      "metadata": {
        "id": "-Au-h8uoCI01",
        "colab_type": "code",
        "colab": {
          "base_uri": "https://localhost:8080/",
          "height": 85
        },
        "outputId": "f64038b6-c43b-44a7-aeec-6c4f0d2fbd46"
      },
      "source": [
        "s = test_df.isna().sum()\n",
        "# filter: 帶入跟資料大小依樣的true/false, true:留 false:滾\n",
        "s[s > 0].sort_values(ascending=False)"
      ],
      "execution_count": 9,
      "outputs": [
        {
          "output_type": "execute_result",
          "data": {
            "text/plain": [
              "Cabin    327\n",
              "Age       86\n",
              "Fare       1\n",
              "dtype: int64"
            ]
          },
          "metadata": {
            "tags": []
          },
          "execution_count": 9
        }
      ]
    },
    {
      "cell_type": "code",
      "metadata": {
        "id": "5s65zZ1gCyWq",
        "colab_type": "code",
        "colab": {}
      },
      "source": [
        "# 數值類型: 中位數\n",
        "med = train_df.median()\n",
        "med = med.drop([\"Pclass\"])\n",
        "train_df = train_df.fillna(med)\n",
        "test_df = test_df.fillna(med)"
      ],
      "execution_count": 12,
      "outputs": []
    },
    {
      "cell_type": "code",
      "metadata": {
        "id": "2inUSgKcE382",
        "colab_type": "code",
        "colab": {}
      },
      "source": [
        "# 類別類型: 最常出現\n",
        "counts = train_df[\"Embarked\"].value_counts()\n",
        "most = counts.idxmax()\n",
        "train_df[\"Embarked\"] = train_df[\"Embarked\"].fillna(most)"
      ],
      "execution_count": 17,
      "outputs": []
    },
    {
      "cell_type": "code",
      "metadata": {
        "id": "o10PmR40H43H",
        "colab_type": "code",
        "colab": {
          "base_uri": "https://localhost:8080/",
          "height": 34
        },
        "outputId": "66666039-21cf-4aa2-d8e5-34dea7fdae29"
      },
      "source": [
        "n = \"Braund, Mr. Owen Harris\"\n",
        "n = n.split(\",\")[-1].split(\".\")[0]\n",
        "n.strip()"
      ],
      "execution_count": 24,
      "outputs": [
        {
          "output_type": "execute_result",
          "data": {
            "text/plain": [
              "'Mr'"
            ]
          },
          "metadata": {
            "tags": []
          },
          "execution_count": 24
        }
      ]
    },
    {
      "cell_type": "code",
      "metadata": {
        "id": "wTGxbKweIn8b",
        "colab_type": "code",
        "colab": {
          "base_uri": "https://localhost:8080/",
          "height": 34
        },
        "outputId": "dd570560-3e7e-42e4-c68b-31b190179184"
      },
      "source": [
        "import re\n",
        "n = \"Braund, Mr. Owen Harris\"\n",
        "# \\w: A~Z a-z \\s: blank +:>=1 *:>=0\n",
        "# \\w+: Braund: 一個以上a-z\n",
        "# \\s*: 零個以上的空白\n",
        "# (\\w+): Mr, ()是指這是我的target\n",
        "# \\.: .是有特殊用途的, 所以我\\.: 就是.\n",
        "# [\\s\\w]+:  Owen Harris \\s or \\w 出現一次以上\n",
        "# group: 找出()\n",
        "pat = r\"\\w+,\\s*(\\w+)\\.[\\s\\w]+\"\n",
        "re.search(pat, n).group(1)"
      ],
      "execution_count": 45,
      "outputs": [
        {
          "output_type": "execute_result",
          "data": {
            "text/plain": [
              "'Mr'"
            ]
          },
          "metadata": {
            "tags": []
          },
          "execution_count": 45
        }
      ]
    },
    {
      "cell_type": "code",
      "metadata": {
        "id": "iRCylfdBJ_dM",
        "colab_type": "code",
        "colab": {}
      },
      "source": [
        "()"
      ],
      "execution_count": null,
      "outputs": []
    }
  ]
}