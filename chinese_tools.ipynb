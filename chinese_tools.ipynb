{
  "nbformat": 4,
  "nbformat_minor": 0,
  "metadata": {
    "colab": {
      "name": "chinese_tools.ipynb",
      "provenance": []
    },
    "kernelspec": {
      "name": "python3",
      "display_name": "Python 3"
    }
  },
  "cells": [
    {
      "cell_type": "code",
      "metadata": {
        "id": "UaBCbGp8Lu2W",
        "colab_type": "code",
        "colab": {}
      },
      "source": [
        "s = \"\"\"台灣今天新增2例武漢肺炎境外移入，為一對在孟加拉工作夫妻。他們在孟加拉已確診且治療，其中一人不符確診者回台規定。疫情指揮中心發言人莊人祥說，因兩人都有做好防護，傳染他人風險大幅降低。\n",
        "\n",
        "防疫資訊\n",
        "振興券誰能領？怎麼領？7大QA一次看\n",
        "口罩6/1起解禁 哪裡買一次看\n",
        "全台5單位研發武漢肺炎疫苗 年底前展開臨床試驗\n",
        "中央流行疫情指揮中心發言人莊人祥下午公布，國內新增2例境外移入2019冠狀病毒疾病（COVID-19，俗稱武漢肺炎）病例，為50多歲男性（案444）及40多歲女性（案445）。兩人為一對夫婦，分別在今年1月下旬及3月上旬到孟加拉工作，6月12日一同從孟加拉搭機到馬來西亞，並於13日自馬來西亞搭乘專機返國。\n",
        "\n",
        "莊人祥說，先生在孟加拉工作期間，曾於5月23日出現發燒、咳嗽、喉嚨痛、肌肉痠痛及味覺異常等症狀；太太則於5月25日出現發燒症狀，兩人都在孟加拉當地確診後住院治療。其中先生5月26日就無症狀，5月28日及6月2日採檢均為陰性。\n",
        "\n",
        "太太在6月2日檢驗陰性，但因當地醫院病人很多，太太被迫離院。兩人6月2日出院返家後未再外出，在6月13日返台入境時無症狀，因主動告知曾於孟加拉確診住院，由機場採檢後送至集中檢疫所隔離。\n",
        "\n",
        "其中先生一採檢驗陽性，太太一採檢驗陰性，二採檢驗陽性，兩人都於今天確診，目前住院隔離中。\n",
        "\n",
        "不過，台灣先前曾公布，在國外確診者若要回台，必須符合發病日至登機至少2個月且症狀已消失，或取得2次咽喉採檢陰性才放行。\n",
        "\n",
        "莊人祥說，這兩名確診個案，先生有符合規定，但太太只有一次採檢陰性。但兩人在飛機上都有適當防護，且太太發病日已超過10天，評估傳染給他人風險大幅降低。後續是否開罰要看有沒有符合「嚴重特殊傳染性肺炎防治及紓困振興特別條例」開罰要件，有待調查。\n",
        "\n",
        "這兩名個案在飛機上都有戴口罩、著防護衣，入境後未接觸國內親友。衛生單位目前已掌握個案同班機機組員及前後2排乘客共37人，由於兩個案全程皆有著防護裝備，11名機組員列為自主健康管理對象，前後2排26名乘客維持居家檢疫對象。\n",
        "\n",
        "指揮中心統計，台灣目前445例確診，分別為354例境外移入，55例本土病例及36例敦睦艦隊。確診個案中7人死亡，433人解除隔離，其餘持續住院隔離中。\"\"\""
      ],
      "execution_count": 1,
      "outputs": []
    },
    {
      "cell_type": "code",
      "metadata": {
        "id": "LtVE-cWZBq5I",
        "colab_type": "code",
        "colab": {
          "base_uri": "https://localhost:8080/",
          "height": 34
        },
        "outputId": "ede2684b-5822-42cc-e156-14cb692fb0f5"
      },
      "source": [
        "from urllib.request import urlretrieve\n",
        "url = \"https://github.com/fxsjy/jieba/raw/master/extra_dict/dict.txt.big\"\n",
        "urlretrieve(url,\"dict.big\")"
      ],
      "execution_count": 4,
      "outputs": [
        {
          "output_type": "execute_result",
          "data": {
            "text/plain": [
              "('dict.big', <http.client.HTTPMessage at 0x7f2fa2f35d30>)"
            ]
          },
          "metadata": {
            "tags": []
          },
          "execution_count": 4
        }
      ]
    },
    {
      "cell_type": "code",
      "metadata": {
        "id": "h-DHisOmOuTQ",
        "colab_type": "code",
        "colab": {
          "base_uri": "https://localhost:8080/",
          "height": 123
        },
        "outputId": "e63c62c7-443c-49cc-9ea3-20455d2a59fc"
      },
      "source": [
        "import jieba\n",
        "jieba.set_dictionary(\"dict.big\")\n",
        "jieba.load_userdict(\"mydict.txt\")\n",
        "\" \".join(jieba.cut(s))"
      ],
      "execution_count": 7,
      "outputs": [
        {
          "output_type": "stream",
          "text": [
            "Building prefix dict from /content/dict.big ...\n",
            "Loading model from cache /tmp/jieba.u07306b11e64fa1786267fcd71f361dde.cache\n",
            "Loading model cost 1.347 seconds.\n",
            "Prefix dict has been built successfully.\n"
          ],
          "name": "stderr"
        },
        {
          "output_type": "execute_result",
          "data": {
            "text/plain": [
              "'台灣 今天 新增 2 例 武漢肺炎 境外 移入 ， 為 一對 在 孟加拉 工作 夫妻 。 他們 在 孟加拉 已 確診 且 治療 ， 其中 一人 不符 確診 者 回台 規定 。 疫情 指揮中心 發言人 莊人祥 說 ， 因兩人 都 有 做好 防護 ， 傳染 他人 風險 大幅 降低 。 \\n \\n 防疫 資訊 \\n 振興 券 誰 能領 ？ 怎麼 領 ？ 7 大 QA 一次 看 \\n 口罩 6 / 1 起 解禁   哪裡 買 一次 看 \\n 全台 5 單位 研發 武漢肺炎 疫苗   年底 前 展開 臨床 試驗 \\n 中央 流行 疫情 指揮中心 發言人 莊人祥 下午 公布 ， 國內 新增 2 例 境外 移入 2019 冠狀病毒 疾病 （ COVID - 19 ， 俗稱 武漢肺炎 ） 病例 ， 為 50 多歲 男性 （ 案 444 ） 及 40 多歲 女性 （ 案 445 ） 。 兩人 為 一對 夫婦 ， 分別 在 今年 1 月 下旬 及 3 月 上旬 到 孟加拉 工作 ， 6 月 12 日 一同 從 孟加拉 搭機到 馬來西亞 ， 並於 13 日自 馬來西亞 搭乘 專機 返國 。 \\n \\n 莊人祥 說 ， 先生 在 孟加拉 工作 期間 ， 曾 於 5 月 23 日 出現 發燒 、 咳嗽 、 喉嚨痛 、 肌肉 痠痛 及 味覺 異常 等 症狀 ； 太太 則 於 5 月 25 日 出現 發燒 症狀 ， 兩人 都 在 孟加拉 當地 確診 後 住院治療 。 其中 先生 5 月 26 日 就 無症狀 ， 5 月 28 日及 6 月 2 日 採檢均 為 陰性 。 \\n \\n 太太 在 6 月 2 日 檢驗 陰性 ， 但 因 當地 醫院 病人 很多 ， 太太 被迫 離院 。 兩人 6 月 2 日 出院 返家 後 未 再 外出 ， 在 6 月 13 日 返台 入境 時 無症狀 ， 因 主動 告知 曾 於 孟加拉 確診 住院 ， 由 機場 採檢後送 至 集中 檢疫所 隔離 。 \\n \\n 其中 先生 一採 檢驗 陽性 ， 太太 一採 檢驗 陰性 ， 二採 檢驗 陽性 ， 兩人 都 於 今天 確診 ， 目前 住院 隔離 中 。 \\n \\n 不過 ， 台灣 先前 曾 公布 ， 在 國外 確診 者 若 要 回台 ， 必須 符合 發病 日至 登機 至少 2 個 月 且 症狀 已 消失 ， 或 取得 2 次 咽喉 採檢 陰性 才 放行 。 \\n \\n 莊人祥 說 ， 這 兩名 確診 個案 ， 先生 有 符合規定 ， 但 太太 只有 一次 採檢 陰性 。 但 兩人 在 飛機 上 都 有 適當 防護 ， 且 太太 發病 日 已 超過 10 天 ， 評估 傳染給 他人 風險 大幅 降低 。 後續 是否 開罰 要 看 有沒有 符合 「 嚴重 特殊 傳染性 肺炎 防治 及 紓 困 振興 特別 條例 」 開罰 要件 ， 有待 調查 。 \\n \\n 這 兩名 個案 在 飛機 上 都 有 戴 口罩 、 著 防護衣 ， 入境 後 未 接觸 國內 親友 。 衛生 單位 目前 已 掌握 個案 同 班機 機組 員及 前後 2 排 乘客 共 37 人 ， 由於 兩個 案 全程 皆 有 著 防護 裝備 ， 11 名 機組 員列 為 自主 健康 管理對象 ， 前後 2 排 26 名 乘客 維持 居家 檢疫 對象 。 \\n \\n 指揮中心 統計 ， 台灣 目前 445 例 確診 ， 分別 為 354 例 境外 移入 ， 55 例 本土 病例 及 36 例 敦睦 艦隊 。 確診 個案 中 7 人 死亡 ， 433 人 解除 隔離 ， 其餘 持續 住院 隔離 中 。'"
            ]
          },
          "metadata": {
            "tags": []
          },
          "execution_count": 7
        }
      ]
    },
    {
      "cell_type": "code",
      "metadata": {
        "id": "fwh6PcxfOSfy",
        "colab_type": "code",
        "colab": {
          "base_uri": "https://localhost:8080/",
          "height": 360
        },
        "outputId": "f814d3a2-08e2-4017-8cfa-1d1974a769ac"
      },
      "source": [
        "import jieba.analyse\n",
        "jieba.analyse.extract_tags(s)"
      ],
      "execution_count": 8,
      "outputs": [
        {
          "output_type": "execute_result",
          "data": {
            "text/plain": [
              "['確診',\n",
              " '孟加拉',\n",
              " '兩人',\n",
              " '陰性',\n",
              " '莊人祥',\n",
              " '檢驗',\n",
              " '隔離',\n",
              " '個案',\n",
              " '太太',\n",
              " '台灣',\n",
              " '武漢肺炎',\n",
              " '指揮中心',\n",
              " '防護',\n",
              " '症狀',\n",
              " '移入',\n",
              " '回台',\n",
              " '住院',\n",
              " '一對',\n",
              " '發言人',\n",
              " '風險']"
            ]
          },
          "metadata": {
            "tags": []
          },
          "execution_count": 8
        }
      ]
    }
  ]
}