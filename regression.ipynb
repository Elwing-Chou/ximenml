{
  "nbformat": 4,
  "nbformat_minor": 0,
  "metadata": {
    "colab": {
      "name": "regression.ipynb",
      "provenance": [],
      "collapsed_sections": []
    },
    "kernelspec": {
      "name": "python3",
      "display_name": "Python 3"
    }
  },
  "cells": [
    {
      "cell_type": "markdown",
      "metadata": {
        "id": "FDIYltoiIHtU",
        "colab_type": "text"
      },
      "source": [
        "CRIM：人均犯罪率\n",
        "\n",
        "ZN：25,000平方英尺以上民用土地的比例\n",
        "\n",
        "INDUS：城镇非零售业商用土地比例\n",
        "\n",
        "CHAS：是否邻近查尔斯河，1是邻近，0是不邻近\n",
        "\n",
        "NOX：一氧化氮浓度（千万分之一）\n",
        "\n",
        "RM：住宅的平均房间数\n",
        "\n",
        "AGE：自住且建于1940年前的房屋比例\n",
        "\n",
        "DIS：到5个波士顿就业中心的加权距离\n",
        "\n",
        "RAD：到高速公路的便捷度指数\n",
        "\n",
        "TAX：每万元的房产税率\n",
        "\n",
        "PTRATIO：城镇学生教师比例\n",
        "\n",
        "B： 1000(Bk − 0.63)2 其中Bk是城镇中黑人比例\n",
        "\n",
        "LSTAT：低收入人群比例\n",
        "\n",
        "ans：自住房中位数价格，单位是千元"
      ]
    },
    {
      "cell_type": "code",
      "metadata": {
        "id": "OuWqdoyg5344",
        "colab_type": "code",
        "outputId": "6790a84f-92e1-44b0-e5d8-78fc530a2973",
        "colab": {
          "base_uri": "https://localhost:8080/",
          "height": 407
        }
      },
      "source": [
        "import pandas as pd\n",
        "from sklearn.datasets import load_boston\n",
        "boston = load_boston()\n",
        "df = pd.DataFrame(boston[\"data\"],\n",
        "                  columns=boston[\"feature_names\"])\n",
        "df[\"ans\"] = boston[\"target\"]\n",
        "df"
      ],
      "execution_count": 14,
      "outputs": [
        {
          "output_type": "execute_result",
          "data": {
            "text/html": [
              "<div>\n",
              "<style scoped>\n",
              "    .dataframe tbody tr th:only-of-type {\n",
              "        vertical-align: middle;\n",
              "    }\n",
              "\n",
              "    .dataframe tbody tr th {\n",
              "        vertical-align: top;\n",
              "    }\n",
              "\n",
              "    .dataframe thead th {\n",
              "        text-align: right;\n",
              "    }\n",
              "</style>\n",
              "<table border=\"1\" class=\"dataframe\">\n",
              "  <thead>\n",
              "    <tr style=\"text-align: right;\">\n",
              "      <th></th>\n",
              "      <th>CRIM</th>\n",
              "      <th>ZN</th>\n",
              "      <th>INDUS</th>\n",
              "      <th>CHAS</th>\n",
              "      <th>NOX</th>\n",
              "      <th>RM</th>\n",
              "      <th>AGE</th>\n",
              "      <th>DIS</th>\n",
              "      <th>RAD</th>\n",
              "      <th>TAX</th>\n",
              "      <th>PTRATIO</th>\n",
              "      <th>B</th>\n",
              "      <th>LSTAT</th>\n",
              "      <th>ans</th>\n",
              "    </tr>\n",
              "  </thead>\n",
              "  <tbody>\n",
              "    <tr>\n",
              "      <th>0</th>\n",
              "      <td>0.00632</td>\n",
              "      <td>18.0</td>\n",
              "      <td>2.31</td>\n",
              "      <td>0.0</td>\n",
              "      <td>0.538</td>\n",
              "      <td>6.575</td>\n",
              "      <td>65.2</td>\n",
              "      <td>4.0900</td>\n",
              "      <td>1.0</td>\n",
              "      <td>296.0</td>\n",
              "      <td>15.3</td>\n",
              "      <td>396.90</td>\n",
              "      <td>4.98</td>\n",
              "      <td>24.0</td>\n",
              "    </tr>\n",
              "    <tr>\n",
              "      <th>1</th>\n",
              "      <td>0.02731</td>\n",
              "      <td>0.0</td>\n",
              "      <td>7.07</td>\n",
              "      <td>0.0</td>\n",
              "      <td>0.469</td>\n",
              "      <td>6.421</td>\n",
              "      <td>78.9</td>\n",
              "      <td>4.9671</td>\n",
              "      <td>2.0</td>\n",
              "      <td>242.0</td>\n",
              "      <td>17.8</td>\n",
              "      <td>396.90</td>\n",
              "      <td>9.14</td>\n",
              "      <td>21.6</td>\n",
              "    </tr>\n",
              "    <tr>\n",
              "      <th>2</th>\n",
              "      <td>0.02729</td>\n",
              "      <td>0.0</td>\n",
              "      <td>7.07</td>\n",
              "      <td>0.0</td>\n",
              "      <td>0.469</td>\n",
              "      <td>7.185</td>\n",
              "      <td>61.1</td>\n",
              "      <td>4.9671</td>\n",
              "      <td>2.0</td>\n",
              "      <td>242.0</td>\n",
              "      <td>17.8</td>\n",
              "      <td>392.83</td>\n",
              "      <td>4.03</td>\n",
              "      <td>34.7</td>\n",
              "    </tr>\n",
              "    <tr>\n",
              "      <th>3</th>\n",
              "      <td>0.03237</td>\n",
              "      <td>0.0</td>\n",
              "      <td>2.18</td>\n",
              "      <td>0.0</td>\n",
              "      <td>0.458</td>\n",
              "      <td>6.998</td>\n",
              "      <td>45.8</td>\n",
              "      <td>6.0622</td>\n",
              "      <td>3.0</td>\n",
              "      <td>222.0</td>\n",
              "      <td>18.7</td>\n",
              "      <td>394.63</td>\n",
              "      <td>2.94</td>\n",
              "      <td>33.4</td>\n",
              "    </tr>\n",
              "    <tr>\n",
              "      <th>4</th>\n",
              "      <td>0.06905</td>\n",
              "      <td>0.0</td>\n",
              "      <td>2.18</td>\n",
              "      <td>0.0</td>\n",
              "      <td>0.458</td>\n",
              "      <td>7.147</td>\n",
              "      <td>54.2</td>\n",
              "      <td>6.0622</td>\n",
              "      <td>3.0</td>\n",
              "      <td>222.0</td>\n",
              "      <td>18.7</td>\n",
              "      <td>396.90</td>\n",
              "      <td>5.33</td>\n",
              "      <td>36.2</td>\n",
              "    </tr>\n",
              "    <tr>\n",
              "      <th>...</th>\n",
              "      <td>...</td>\n",
              "      <td>...</td>\n",
              "      <td>...</td>\n",
              "      <td>...</td>\n",
              "      <td>...</td>\n",
              "      <td>...</td>\n",
              "      <td>...</td>\n",
              "      <td>...</td>\n",
              "      <td>...</td>\n",
              "      <td>...</td>\n",
              "      <td>...</td>\n",
              "      <td>...</td>\n",
              "      <td>...</td>\n",
              "      <td>...</td>\n",
              "    </tr>\n",
              "    <tr>\n",
              "      <th>501</th>\n",
              "      <td>0.06263</td>\n",
              "      <td>0.0</td>\n",
              "      <td>11.93</td>\n",
              "      <td>0.0</td>\n",
              "      <td>0.573</td>\n",
              "      <td>6.593</td>\n",
              "      <td>69.1</td>\n",
              "      <td>2.4786</td>\n",
              "      <td>1.0</td>\n",
              "      <td>273.0</td>\n",
              "      <td>21.0</td>\n",
              "      <td>391.99</td>\n",
              "      <td>9.67</td>\n",
              "      <td>22.4</td>\n",
              "    </tr>\n",
              "    <tr>\n",
              "      <th>502</th>\n",
              "      <td>0.04527</td>\n",
              "      <td>0.0</td>\n",
              "      <td>11.93</td>\n",
              "      <td>0.0</td>\n",
              "      <td>0.573</td>\n",
              "      <td>6.120</td>\n",
              "      <td>76.7</td>\n",
              "      <td>2.2875</td>\n",
              "      <td>1.0</td>\n",
              "      <td>273.0</td>\n",
              "      <td>21.0</td>\n",
              "      <td>396.90</td>\n",
              "      <td>9.08</td>\n",
              "      <td>20.6</td>\n",
              "    </tr>\n",
              "    <tr>\n",
              "      <th>503</th>\n",
              "      <td>0.06076</td>\n",
              "      <td>0.0</td>\n",
              "      <td>11.93</td>\n",
              "      <td>0.0</td>\n",
              "      <td>0.573</td>\n",
              "      <td>6.976</td>\n",
              "      <td>91.0</td>\n",
              "      <td>2.1675</td>\n",
              "      <td>1.0</td>\n",
              "      <td>273.0</td>\n",
              "      <td>21.0</td>\n",
              "      <td>396.90</td>\n",
              "      <td>5.64</td>\n",
              "      <td>23.9</td>\n",
              "    </tr>\n",
              "    <tr>\n",
              "      <th>504</th>\n",
              "      <td>0.10959</td>\n",
              "      <td>0.0</td>\n",
              "      <td>11.93</td>\n",
              "      <td>0.0</td>\n",
              "      <td>0.573</td>\n",
              "      <td>6.794</td>\n",
              "      <td>89.3</td>\n",
              "      <td>2.3889</td>\n",
              "      <td>1.0</td>\n",
              "      <td>273.0</td>\n",
              "      <td>21.0</td>\n",
              "      <td>393.45</td>\n",
              "      <td>6.48</td>\n",
              "      <td>22.0</td>\n",
              "    </tr>\n",
              "    <tr>\n",
              "      <th>505</th>\n",
              "      <td>0.04741</td>\n",
              "      <td>0.0</td>\n",
              "      <td>11.93</td>\n",
              "      <td>0.0</td>\n",
              "      <td>0.573</td>\n",
              "      <td>6.030</td>\n",
              "      <td>80.8</td>\n",
              "      <td>2.5050</td>\n",
              "      <td>1.0</td>\n",
              "      <td>273.0</td>\n",
              "      <td>21.0</td>\n",
              "      <td>396.90</td>\n",
              "      <td>7.88</td>\n",
              "      <td>11.9</td>\n",
              "    </tr>\n",
              "  </tbody>\n",
              "</table>\n",
              "<p>506 rows × 14 columns</p>\n",
              "</div>"
            ],
            "text/plain": [
              "        CRIM    ZN  INDUS  CHAS    NOX  ...    TAX  PTRATIO       B  LSTAT   ans\n",
              "0    0.00632  18.0   2.31   0.0  0.538  ...  296.0     15.3  396.90   4.98  24.0\n",
              "1    0.02731   0.0   7.07   0.0  0.469  ...  242.0     17.8  396.90   9.14  21.6\n",
              "2    0.02729   0.0   7.07   0.0  0.469  ...  242.0     17.8  392.83   4.03  34.7\n",
              "3    0.03237   0.0   2.18   0.0  0.458  ...  222.0     18.7  394.63   2.94  33.4\n",
              "4    0.06905   0.0   2.18   0.0  0.458  ...  222.0     18.7  396.90   5.33  36.2\n",
              "..       ...   ...    ...   ...    ...  ...    ...      ...     ...    ...   ...\n",
              "501  0.06263   0.0  11.93   0.0  0.573  ...  273.0     21.0  391.99   9.67  22.4\n",
              "502  0.04527   0.0  11.93   0.0  0.573  ...  273.0     21.0  396.90   9.08  20.6\n",
              "503  0.06076   0.0  11.93   0.0  0.573  ...  273.0     21.0  396.90   5.64  23.9\n",
              "504  0.10959   0.0  11.93   0.0  0.573  ...  273.0     21.0  393.45   6.48  22.0\n",
              "505  0.04741   0.0  11.93   0.0  0.573  ...  273.0     21.0  396.90   7.88  11.9\n",
              "\n",
              "[506 rows x 14 columns]"
            ]
          },
          "metadata": {
            "tags": []
          },
          "execution_count": 14
        }
      ]
    },
    {
      "cell_type": "code",
      "metadata": {
        "id": "cb0pCHgkHulW",
        "colab_type": "code",
        "colab": {}
      },
      "source": [
        "from sklearn.model_selection import train_test_split\n",
        "# [90% data, 10% data, 90% target, 10% target]\n",
        "x_train, x_test, y_train, y_test = train_test_split(boston[\"data\"],\n",
        "                                                    boston[\"target\"],\n",
        "                                                    test_size=0.1)"
      ],
      "execution_count": 0,
      "outputs": []
    },
    {
      "cell_type": "code",
      "metadata": {
        "id": "OOrVXJ6rJ0iH",
        "colab_type": "code",
        "outputId": "badc0d76-6025-441f-facd-b8102377ea3e",
        "colab": {
          "base_uri": "https://localhost:8080/",
          "height": 122
        }
      },
      "source": [
        "from sklearn.tree import DecisionTreeRegressor\n",
        "reg = DecisionTreeRegressor(max_depth=6, random_state=0)\n",
        "# 訓練\n",
        "reg.fit(x_train, y_train)"
      ],
      "execution_count": 61,
      "outputs": [
        {
          "output_type": "execute_result",
          "data": {
            "text/plain": [
              "DecisionTreeRegressor(ccp_alpha=0.0, criterion='mse', max_depth=6,\n",
              "                      max_features=None, max_leaf_nodes=None,\n",
              "                      min_impurity_decrease=0.0, min_impurity_split=None,\n",
              "                      min_samples_leaf=1, min_samples_split=2,\n",
              "                      min_weight_fraction_leaf=0.0, presort='deprecated',\n",
              "                      random_state=0, splitter='best')"
            ]
          },
          "metadata": {
            "tags": []
          },
          "execution_count": 61
        }
      ]
    },
    {
      "cell_type": "code",
      "metadata": {
        "id": "xtRpEQo15L-M",
        "colab_type": "code",
        "outputId": "4604fdae-2da1-44ce-b0e4-36d12466f379",
        "colab": {
          "base_uri": "https://localhost:8080/",
          "height": 653
        }
      },
      "source": [
        "import graphviz\n",
        "from sklearn.tree import export_graphviz\n",
        "g = export_graphviz(reg, \n",
        "                    feature_names=boston[\"feature_names\"],\n",
        "                    filled=True,\n",
        "                    max_depth=3)\n",
        "graphviz.Source(g)"
      ],
      "execution_count": 63,
      "outputs": [
        {
          "output_type": "execute_result",
          "data": {
            "text/plain": [
              "<graphviz.files.Source at 0x7ff6b4e38048>"
            ],
            "image/svg+xml": "<?xml version=\"1.0\" encoding=\"UTF-8\" standalone=\"no\"?>\n<!DOCTYPE svg PUBLIC \"-//W3C//DTD SVG 1.1//EN\"\n \"http://www.w3.org/Graphics/SVG/1.1/DTD/svg11.dtd\">\n<!-- Generated by graphviz version 2.40.1 (20161225.0304)\n -->\n<!-- Title: Tree Pages: 1 -->\n<svg width=\"1142pt\" height=\"460pt\"\n viewBox=\"0.00 0.00 1142.00 460.00\" xmlns=\"http://www.w3.org/2000/svg\" xmlns:xlink=\"http://www.w3.org/1999/xlink\">\n<g id=\"graph0\" class=\"graph\" transform=\"scale(1 1) rotate(0) translate(4 456)\">\n<title>Tree</title>\n<polygon fill=\"#ffffff\" stroke=\"transparent\" points=\"-4,4 -4,-456 1138,-456 1138,4 -4,4\"/>\n<!-- 0 -->\n<g id=\"node1\" class=\"node\">\n<title>0</title>\n<polygon fill=\"#f6d2b9\" stroke=\"#000000\" points=\"552,-452 448,-452 448,-384 552,-384 552,-452\"/>\n<text text-anchor=\"middle\" x=\"500\" y=\"-436.8\" font-family=\"Times,serif\" font-size=\"14.00\" fill=\"#000000\">RM &lt;= 6.92</text>\n<text text-anchor=\"middle\" x=\"500\" y=\"-421.8\" font-family=\"Times,serif\" font-size=\"14.00\" fill=\"#000000\">mse = 83.924</text>\n<text text-anchor=\"middle\" x=\"500\" y=\"-406.8\" font-family=\"Times,serif\" font-size=\"14.00\" fill=\"#000000\">samples = 455</text>\n<text text-anchor=\"middle\" x=\"500\" y=\"-391.8\" font-family=\"Times,serif\" font-size=\"14.00\" fill=\"#000000\">value = 22.587</text>\n</g>\n<!-- 1 -->\n<g id=\"node2\" class=\"node\">\n<title>1</title>\n<polygon fill=\"#f7dac6\" stroke=\"#000000\" points=\"490,-348 380,-348 380,-280 490,-280 490,-348\"/>\n<text text-anchor=\"middle\" x=\"435\" y=\"-332.8\" font-family=\"Times,serif\" font-size=\"14.00\" fill=\"#000000\">LSTAT &lt;= 14.4</text>\n<text text-anchor=\"middle\" x=\"435\" y=\"-317.8\" font-family=\"Times,serif\" font-size=\"14.00\" fill=\"#000000\">mse = 38.739</text>\n<text text-anchor=\"middle\" x=\"435\" y=\"-302.8\" font-family=\"Times,serif\" font-size=\"14.00\" fill=\"#000000\">samples = 383</text>\n<text text-anchor=\"middle\" x=\"435\" y=\"-287.8\" font-family=\"Times,serif\" font-size=\"14.00\" fill=\"#000000\">value = 19.852</text>\n</g>\n<!-- 0&#45;&gt;1 -->\n<g id=\"edge1\" class=\"edge\">\n<title>0&#45;&gt;1</title>\n<path fill=\"none\" stroke=\"#000000\" d=\"M478.7166,-383.9465C473.2733,-375.2373 467.3516,-365.7626 461.675,-356.6801\"/>\n<polygon fill=\"#000000\" stroke=\"#000000\" points=\"464.5993,-354.755 456.3312,-348.13 458.6633,-358.465 464.5993,-354.755\"/>\n<text text-anchor=\"middle\" x=\"450.7098\" y=\"-368.7898\" font-family=\"Times,serif\" font-size=\"14.00\" fill=\"#000000\">True</text>\n</g>\n<!-- 50 -->\n<g id=\"node17\" class=\"node\">\n<title>50</title>\n<polygon fill=\"#eda775\" stroke=\"#000000\" points=\"754,-348 650,-348 650,-280 754,-280 754,-348\"/>\n<text text-anchor=\"middle\" x=\"702\" y=\"-332.8\" font-family=\"Times,serif\" font-size=\"14.00\" fill=\"#000000\">RM &lt;= 7.437</text>\n<text text-anchor=\"middle\" x=\"702\" y=\"-317.8\" font-family=\"Times,serif\" font-size=\"14.00\" fill=\"#000000\">mse = 72.826</text>\n<text text-anchor=\"middle\" x=\"702\" y=\"-302.8\" font-family=\"Times,serif\" font-size=\"14.00\" fill=\"#000000\">samples = 72</text>\n<text text-anchor=\"middle\" x=\"702\" y=\"-287.8\" font-family=\"Times,serif\" font-size=\"14.00\" fill=\"#000000\">value = 37.136</text>\n</g>\n<!-- 0&#45;&gt;50 -->\n<g id=\"edge16\" class=\"edge\">\n<title>0&#45;&gt;50</title>\n<path fill=\"none\" stroke=\"#000000\" d=\"M552.02,-391.2174C579.1287,-377.2605 612.4488,-360.1056 640.7922,-345.5129\"/>\n<polygon fill=\"#000000\" stroke=\"#000000\" points=\"642.5169,-348.5617 649.8056,-340.8724 639.3126,-342.3381 642.5169,-348.5617\"/>\n<text text-anchor=\"middle\" x=\"642.1805\" y=\"-360.9812\" font-family=\"Times,serif\" font-size=\"14.00\" fill=\"#000000\">False</text>\n</g>\n<!-- 2 -->\n<g id=\"node3\" class=\"node\">\n<title>2</title>\n<polygon fill=\"#f5d0b5\" stroke=\"#000000\" points=\"288,-244 184,-244 184,-176 288,-176 288,-244\"/>\n<text text-anchor=\"middle\" x=\"236\" y=\"-228.8\" font-family=\"Times,serif\" font-size=\"14.00\" fill=\"#000000\">DIS &lt;= 1.385</text>\n<text text-anchor=\"middle\" x=\"236\" y=\"-213.8\" font-family=\"Times,serif\" font-size=\"14.00\" fill=\"#000000\">mse = 24.797</text>\n<text text-anchor=\"middle\" x=\"236\" y=\"-198.8\" font-family=\"Times,serif\" font-size=\"14.00\" fill=\"#000000\">samples = 220</text>\n<text text-anchor=\"middle\" x=\"236\" y=\"-183.8\" font-family=\"Times,serif\" font-size=\"14.00\" fill=\"#000000\">value = 23.353</text>\n</g>\n<!-- 1&#45;&gt;2 -->\n<g id=\"edge2\" class=\"edge\">\n<title>1&#45;&gt;2</title>\n<path fill=\"none\" stroke=\"#000000\" d=\"M379.8317,-285.1683C354.2111,-271.7787 323.6612,-255.8129 297.3198,-242.0465\"/>\n<polygon fill=\"#000000\" stroke=\"#000000\" points=\"298.6768,-238.8066 288.193,-237.2767 295.4345,-245.0105 298.6768,-238.8066\"/>\n</g>\n<!-- 21 -->\n<g id=\"node10\" class=\"node\">\n<title>21</title>\n<polygon fill=\"#fae9dc\" stroke=\"#000000\" points=\"490.5,-244 379.5,-244 379.5,-176 490.5,-176 490.5,-244\"/>\n<text text-anchor=\"middle\" x=\"435\" y=\"-228.8\" font-family=\"Times,serif\" font-size=\"14.00\" fill=\"#000000\">CRIM &lt;= 6.992</text>\n<text text-anchor=\"middle\" x=\"435\" y=\"-213.8\" font-family=\"Times,serif\" font-size=\"14.00\" fill=\"#000000\">mse = 18.686</text>\n<text text-anchor=\"middle\" x=\"435\" y=\"-198.8\" font-family=\"Times,serif\" font-size=\"14.00\" fill=\"#000000\">samples = 163</text>\n<text text-anchor=\"middle\" x=\"435\" y=\"-183.8\" font-family=\"Times,serif\" font-size=\"14.00\" fill=\"#000000\">value = 15.127</text>\n</g>\n<!-- 1&#45;&gt;21 -->\n<g id=\"edge9\" class=\"edge\">\n<title>1&#45;&gt;21</title>\n<path fill=\"none\" stroke=\"#000000\" d=\"M435,-279.9465C435,-271.776 435,-262.9318 435,-254.3697\"/>\n<polygon fill=\"#000000\" stroke=\"#000000\" points=\"438.5001,-254.13 435,-244.13 431.5001,-254.13 438.5001,-254.13\"/>\n</g>\n<!-- 3 -->\n<g id=\"node4\" class=\"node\">\n<title>3</title>\n<polygon fill=\"#e89153\" stroke=\"#000000\" points=\"158,-140 40,-140 40,-72 158,-72 158,-140\"/>\n<text text-anchor=\"middle\" x=\"99\" y=\"-124.8\" font-family=\"Times,serif\" font-size=\"14.00\" fill=\"#000000\">LSTAT &lt;= 10.83</text>\n<text text-anchor=\"middle\" x=\"99\" y=\"-109.8\" font-family=\"Times,serif\" font-size=\"14.00\" fill=\"#000000\">mse = 91.577</text>\n<text text-anchor=\"middle\" x=\"99\" y=\"-94.8\" font-family=\"Times,serif\" font-size=\"14.00\" fill=\"#000000\">samples = 4</text>\n<text text-anchor=\"middle\" x=\"99\" y=\"-79.8\" font-family=\"Times,serif\" font-size=\"14.00\" fill=\"#000000\">value = 44.475</text>\n</g>\n<!-- 2&#45;&gt;3 -->\n<g id=\"edge3\" class=\"edge\">\n<title>2&#45;&gt;3</title>\n<path fill=\"none\" stroke=\"#000000\" d=\"M191.1411,-175.9465C178.7222,-166.519 165.1217,-156.1946 152.2739,-146.4415\"/>\n<polygon fill=\"#000000\" stroke=\"#000000\" points=\"154.041,-143.3887 143.9597,-140.13 149.8085,-148.9642 154.041,-143.3887\"/>\n</g>\n<!-- 6 -->\n<g id=\"node7\" class=\"node\">\n<title>6</title>\n<polygon fill=\"#f6d1b7\" stroke=\"#000000\" points=\"288,-140 184,-140 184,-72 288,-72 288,-140\"/>\n<text text-anchor=\"middle\" x=\"236\" y=\"-124.8\" font-family=\"Times,serif\" font-size=\"14.00\" fill=\"#000000\">RM &lt;= 6.543</text>\n<text text-anchor=\"middle\" x=\"236\" y=\"-109.8\" font-family=\"Times,serif\" font-size=\"14.00\" fill=\"#000000\">mse = 15.145</text>\n<text text-anchor=\"middle\" x=\"236\" y=\"-94.8\" font-family=\"Times,serif\" font-size=\"14.00\" fill=\"#000000\">samples = 216</text>\n<text text-anchor=\"middle\" x=\"236\" y=\"-79.8\" font-family=\"Times,serif\" font-size=\"14.00\" fill=\"#000000\">value = 22.962</text>\n</g>\n<!-- 2&#45;&gt;6 -->\n<g id=\"edge6\" class=\"edge\">\n<title>2&#45;&gt;6</title>\n<path fill=\"none\" stroke=\"#000000\" d=\"M236,-175.9465C236,-167.776 236,-158.9318 236,-150.3697\"/>\n<polygon fill=\"#000000\" stroke=\"#000000\" points=\"239.5001,-150.13 236,-140.13 232.5001,-150.13 239.5001,-150.13\"/>\n</g>\n<!-- 4 -->\n<g id=\"node5\" class=\"node\">\n<title>4</title>\n<polygon fill=\"#c0c0c0\" stroke=\"#000000\" points=\"54,-36 0,-36 0,0 54,0 54,-36\"/>\n<text text-anchor=\"middle\" x=\"27\" y=\"-14.3\" font-family=\"Times,serif\" font-size=\"14.00\" fill=\"#000000\">(...)</text>\n</g>\n<!-- 3&#45;&gt;4 -->\n<g id=\"edge4\" class=\"edge\">\n<title>3&#45;&gt;4</title>\n<path fill=\"none\" stroke=\"#000000\" d=\"M71.1629,-71.9769C63.6059,-62.7406 55.5424,-52.8851 48.4014,-44.1573\"/>\n<polygon fill=\"#000000\" stroke=\"#000000\" points=\"50.9256,-41.7152 41.8843,-36.192 45.5079,-46.1479 50.9256,-41.7152\"/>\n</g>\n<!-- 5 -->\n<g id=\"node6\" class=\"node\">\n<title>5</title>\n<polygon fill=\"#c0c0c0\" stroke=\"#000000\" points=\"126,-36 72,-36 72,0 126,0 126,-36\"/>\n<text text-anchor=\"middle\" x=\"99\" y=\"-14.3\" font-family=\"Times,serif\" font-size=\"14.00\" fill=\"#000000\">(...)</text>\n</g>\n<!-- 3&#45;&gt;5 -->\n<g id=\"edge5\" class=\"edge\">\n<title>3&#45;&gt;5</title>\n<path fill=\"none\" stroke=\"#000000\" d=\"M99,-71.9769C99,-63.5023 99,-54.5065 99,-46.3388\"/>\n<polygon fill=\"#000000\" stroke=\"#000000\" points=\"102.5001,-46.1919 99,-36.192 95.5001,-46.192 102.5001,-46.1919\"/>\n</g>\n<!-- 7 -->\n<g id=\"node8\" class=\"node\">\n<title>7</title>\n<polygon fill=\"#c0c0c0\" stroke=\"#000000\" points=\"198,-36 144,-36 144,0 198,0 198,-36\"/>\n<text text-anchor=\"middle\" x=\"171\" y=\"-14.3\" font-family=\"Times,serif\" font-size=\"14.00\" fill=\"#000000\">(...)</text>\n</g>\n<!-- 6&#45;&gt;7 -->\n<g id=\"edge7\" class=\"edge\">\n<title>6&#45;&gt;7</title>\n<path fill=\"none\" stroke=\"#000000\" d=\"M210.8693,-71.9769C204.1174,-62.8358 196.9175,-53.0883 190.5204,-44.4276\"/>\n<polygon fill=\"#000000\" stroke=\"#000000\" points=\"193.1939,-42.1561 184.4372,-36.192 187.5633,-46.3151 193.1939,-42.1561\"/>\n</g>\n<!-- 14 -->\n<g id=\"node9\" class=\"node\">\n<title>14</title>\n<polygon fill=\"#c0c0c0\" stroke=\"#000000\" points=\"270,-36 216,-36 216,0 270,0 270,-36\"/>\n<text text-anchor=\"middle\" x=\"243\" y=\"-14.3\" font-family=\"Times,serif\" font-size=\"14.00\" fill=\"#000000\">(...)</text>\n</g>\n<!-- 6&#45;&gt;14 -->\n<g id=\"edge8\" class=\"edge\">\n<title>6&#45;&gt;14</title>\n<path fill=\"none\" stroke=\"#000000\" d=\"M238.7064,-71.9769C239.3805,-63.5023 240.0961,-54.5065 240.7458,-46.3388\"/>\n<polygon fill=\"#000000\" stroke=\"#000000\" points=\"244.2489,-46.438 241.5529,-36.192 237.2709,-45.8829 244.2489,-46.438\"/>\n</g>\n<!-- 22 -->\n<g id=\"node11\" class=\"node\">\n<title>22</title>\n<polygon fill=\"#f9e2d2\" stroke=\"#000000\" points=\"426,-140 320,-140 320,-72 426,-72 426,-140\"/>\n<text text-anchor=\"middle\" x=\"373\" y=\"-124.8\" font-family=\"Times,serif\" font-size=\"14.00\" fill=\"#000000\">NOX &lt;= 0.531</text>\n<text text-anchor=\"middle\" x=\"373\" y=\"-109.8\" font-family=\"Times,serif\" font-size=\"14.00\" fill=\"#000000\">mse = 11.353</text>\n<text text-anchor=\"middle\" x=\"373\" y=\"-94.8\" font-family=\"Times,serif\" font-size=\"14.00\" fill=\"#000000\">samples = 95</text>\n<text text-anchor=\"middle\" x=\"373\" y=\"-79.8\" font-family=\"Times,serif\" font-size=\"14.00\" fill=\"#000000\">value = 17.233</text>\n</g>\n<!-- 21&#45;&gt;22 -->\n<g id=\"edge10\" class=\"edge\">\n<title>21&#45;&gt;22</title>\n<path fill=\"none\" stroke=\"#000000\" d=\"M414.6989,-175.9465C409.5604,-167.3271 403.9749,-157.9579 398.6114,-148.9611\"/>\n<polygon fill=\"#000000\" stroke=\"#000000\" points=\"401.4737,-146.9272 393.3467,-140.13 395.4611,-150.5117 401.4737,-146.9272\"/>\n</g>\n<!-- 37 -->\n<g id=\"node14\" class=\"node\">\n<title>37</title>\n<polygon fill=\"#fcf1e9\" stroke=\"#000000\" points=\"550,-140 444,-140 444,-72 550,-72 550,-140\"/>\n<text text-anchor=\"middle\" x=\"497\" y=\"-124.8\" font-family=\"Times,serif\" font-size=\"14.00\" fill=\"#000000\">NOX &lt;= 0.606</text>\n<text text-anchor=\"middle\" x=\"497\" y=\"-109.8\" font-family=\"Times,serif\" font-size=\"14.00\" fill=\"#000000\">mse = 14.082</text>\n<text text-anchor=\"middle\" x=\"497\" y=\"-94.8\" font-family=\"Times,serif\" font-size=\"14.00\" fill=\"#000000\">samples = 68</text>\n<text text-anchor=\"middle\" x=\"497\" y=\"-79.8\" font-family=\"Times,serif\" font-size=\"14.00\" fill=\"#000000\">value = 12.185</text>\n</g>\n<!-- 21&#45;&gt;37 -->\n<g id=\"edge13\" class=\"edge\">\n<title>21&#45;&gt;37</title>\n<path fill=\"none\" stroke=\"#000000\" d=\"M455.3011,-175.9465C460.4396,-167.3271 466.0251,-157.9579 471.3886,-148.9611\"/>\n<polygon fill=\"#000000\" stroke=\"#000000\" points=\"474.5389,-150.5117 476.6533,-140.13 468.5263,-146.9272 474.5389,-150.5117\"/>\n</g>\n<!-- 23 -->\n<g id=\"node12\" class=\"node\">\n<title>23</title>\n<polygon fill=\"#c0c0c0\" stroke=\"#000000\" points=\"342,-36 288,-36 288,0 342,0 342,-36\"/>\n<text text-anchor=\"middle\" x=\"315\" y=\"-14.3\" font-family=\"Times,serif\" font-size=\"14.00\" fill=\"#000000\">(...)</text>\n</g>\n<!-- 22&#45;&gt;23 -->\n<g id=\"edge11\" class=\"edge\">\n<title>22&#45;&gt;23</title>\n<path fill=\"none\" stroke=\"#000000\" d=\"M350.5757,-71.9769C344.6136,-62.931 338.2602,-53.2913 332.5968,-44.6986\"/>\n<polygon fill=\"#000000\" stroke=\"#000000\" points=\"335.4157,-42.6154 326.9902,-36.192 329.571,-46.4677 335.4157,-42.6154\"/>\n</g>\n<!-- 30 -->\n<g id=\"node13\" class=\"node\">\n<title>30</title>\n<polygon fill=\"#c0c0c0\" stroke=\"#000000\" points=\"414,-36 360,-36 360,0 414,0 414,-36\"/>\n<text text-anchor=\"middle\" x=\"387\" y=\"-14.3\" font-family=\"Times,serif\" font-size=\"14.00\" fill=\"#000000\">(...)</text>\n</g>\n<!-- 22&#45;&gt;30 -->\n<g id=\"edge12\" class=\"edge\">\n<title>22&#45;&gt;30</title>\n<path fill=\"none\" stroke=\"#000000\" d=\"M378.4128,-71.9769C379.761,-63.5023 381.1921,-54.5065 382.4916,-46.3388\"/>\n<polygon fill=\"#000000\" stroke=\"#000000\" points=\"385.9911,-46.6177 384.1058,-36.192 379.0781,-45.5178 385.9911,-46.6177\"/>\n</g>\n<!-- 38 -->\n<g id=\"node15\" class=\"node\">\n<title>38</title>\n<polygon fill=\"#c0c0c0\" stroke=\"#000000\" points=\"486,-36 432,-36 432,0 486,0 486,-36\"/>\n<text text-anchor=\"middle\" x=\"459\" y=\"-14.3\" font-family=\"Times,serif\" font-size=\"14.00\" fill=\"#000000\">(...)</text>\n</g>\n<!-- 37&#45;&gt;38 -->\n<g id=\"edge14\" class=\"edge\">\n<title>37&#45;&gt;38</title>\n<path fill=\"none\" stroke=\"#000000\" d=\"M482.3082,-71.9769C478.5254,-63.2167 474.5021,-53.8995 470.8818,-45.5157\"/>\n<polygon fill=\"#000000\" stroke=\"#000000\" points=\"474.0333,-43.985 466.8556,-36.192 467.6068,-46.7601 474.0333,-43.985\"/>\n</g>\n<!-- 43 -->\n<g id=\"node16\" class=\"node\">\n<title>43</title>\n<polygon fill=\"#c0c0c0\" stroke=\"#000000\" points=\"558,-36 504,-36 504,0 558,0 558,-36\"/>\n<text text-anchor=\"middle\" x=\"531\" y=\"-14.3\" font-family=\"Times,serif\" font-size=\"14.00\" fill=\"#000000\">(...)</text>\n</g>\n<!-- 37&#45;&gt;43 -->\n<g id=\"edge15\" class=\"edge\">\n<title>37&#45;&gt;43</title>\n<path fill=\"none\" stroke=\"#000000\" d=\"M510.1453,-71.9769C513.4931,-63.3119 517.0515,-54.102 520.2632,-45.7894\"/>\n<polygon fill=\"#000000\" stroke=\"#000000\" points=\"523.632,-46.7814 523.9713,-36.192 517.1024,-44.2585 523.632,-46.7814\"/>\n</g>\n<!-- 51 -->\n<g id=\"node18\" class=\"node\">\n<title>51</title>\n<polygon fill=\"#f0b58b\" stroke=\"#000000\" points=\"755,-244 649,-244 649,-176 755,-176 755,-244\"/>\n<text text-anchor=\"middle\" x=\"702\" y=\"-228.8\" font-family=\"Times,serif\" font-size=\"14.00\" fill=\"#000000\">NOX &lt;= 0.659</text>\n<text text-anchor=\"middle\" x=\"702\" y=\"-213.8\" font-family=\"Times,serif\" font-size=\"14.00\" fill=\"#000000\">mse = 35.561</text>\n<text text-anchor=\"middle\" x=\"702\" y=\"-198.8\" font-family=\"Times,serif\" font-size=\"14.00\" fill=\"#000000\">samples = 45</text>\n<text text-anchor=\"middle\" x=\"702\" y=\"-183.8\" font-family=\"Times,serif\" font-size=\"14.00\" fill=\"#000000\">value = 32.493</text>\n</g>\n<!-- 50&#45;&gt;51 -->\n<g id=\"edge17\" class=\"edge\">\n<title>50&#45;&gt;51</title>\n<path fill=\"none\" stroke=\"#000000\" d=\"M702,-279.9465C702,-271.776 702,-262.9318 702,-254.3697\"/>\n<polygon fill=\"#000000\" stroke=\"#000000\" points=\"705.5001,-254.13 702,-244.13 698.5001,-254.13 705.5001,-254.13\"/>\n</g>\n<!-- 66 -->\n<g id=\"node25\" class=\"node\">\n<title>66</title>\n<polygon fill=\"#e89051\" stroke=\"#000000\" points=\"959.5,-244 832.5,-244 832.5,-176 959.5,-176 959.5,-244\"/>\n<text text-anchor=\"middle\" x=\"896\" y=\"-228.8\" font-family=\"Times,serif\" font-size=\"14.00\" fill=\"#000000\">PTRATIO &lt;= 18.3</text>\n<text text-anchor=\"middle\" x=\"896\" y=\"-213.8\" font-family=\"Times,serif\" font-size=\"14.00\" fill=\"#000000\">mse = 39.134</text>\n<text text-anchor=\"middle\" x=\"896\" y=\"-198.8\" font-family=\"Times,serif\" font-size=\"14.00\" fill=\"#000000\">samples = 27</text>\n<text text-anchor=\"middle\" x=\"896\" y=\"-183.8\" font-family=\"Times,serif\" font-size=\"14.00\" fill=\"#000000\">value = 44.874</text>\n</g>\n<!-- 50&#45;&gt;66 -->\n<g id=\"edge24\" class=\"edge\">\n<title>50&#45;&gt;66</title>\n<path fill=\"none\" stroke=\"#000000\" d=\"M754.2436,-285.9931C775.4457,-274.6271 800.3015,-261.3023 823.2281,-249.0117\"/>\n<polygon fill=\"#000000\" stroke=\"#000000\" points=\"825.0833,-251.9885 832.2431,-244.179 821.776,-245.819 825.0833,-251.9885\"/>\n</g>\n<!-- 52 -->\n<g id=\"node19\" class=\"node\">\n<title>52</title>\n<polygon fill=\"#efb287\" stroke=\"#000000\" points=\"695,-140 591,-140 591,-72 695,-72 695,-140\"/>\n<text text-anchor=\"middle\" x=\"643\" y=\"-124.8\" font-family=\"Times,serif\" font-size=\"14.00\" fill=\"#000000\">DIS &lt;= 1.886</text>\n<text text-anchor=\"middle\" x=\"643\" y=\"-109.8\" font-family=\"Times,serif\" font-size=\"14.00\" fill=\"#000000\">mse = 20.111</text>\n<text text-anchor=\"middle\" x=\"643\" y=\"-94.8\" font-family=\"Times,serif\" font-size=\"14.00\" fill=\"#000000\">samples = 43</text>\n<text text-anchor=\"middle\" x=\"643\" y=\"-79.8\" font-family=\"Times,serif\" font-size=\"14.00\" fill=\"#000000\">value = 33.349</text>\n</g>\n<!-- 51&#45;&gt;52 -->\n<g id=\"edge18\" class=\"edge\">\n<title>51&#45;&gt;52</title>\n<path fill=\"none\" stroke=\"#000000\" d=\"M682.6812,-175.9465C677.7913,-167.3271 672.4761,-157.9579 667.3722,-148.9611\"/>\n<polygon fill=\"#000000\" stroke=\"#000000\" points=\"670.3408,-147.1008 662.3622,-140.13 664.2524,-150.5549 670.3408,-147.1008\"/>\n</g>\n<!-- 63 -->\n<g id=\"node22\" class=\"node\">\n<title>63</title>\n<polygon fill=\"#fbece0\" stroke=\"#000000\" points=\"810.5,-140 713.5,-140 713.5,-72 810.5,-72 810.5,-140\"/>\n<text text-anchor=\"middle\" x=\"762\" y=\"-124.8\" font-family=\"Times,serif\" font-size=\"14.00\" fill=\"#000000\">AGE &lt;= 95.6</text>\n<text text-anchor=\"middle\" x=\"762\" y=\"-109.8\" font-family=\"Times,serif\" font-size=\"14.00\" fill=\"#000000\">mse = 13.69</text>\n<text text-anchor=\"middle\" x=\"762\" y=\"-94.8\" font-family=\"Times,serif\" font-size=\"14.00\" fill=\"#000000\">samples = 2</text>\n<text text-anchor=\"middle\" x=\"762\" y=\"-79.8\" font-family=\"Times,serif\" font-size=\"14.00\" fill=\"#000000\">value = 14.1</text>\n</g>\n<!-- 51&#45;&gt;63 -->\n<g id=\"edge21\" class=\"edge\">\n<title>51&#45;&gt;63</title>\n<path fill=\"none\" stroke=\"#000000\" d=\"M721.6462,-175.9465C726.619,-167.3271 732.0243,-157.9579 737.2148,-148.9611\"/>\n<polygon fill=\"#000000\" stroke=\"#000000\" points=\"740.344,-150.5409 742.3096,-140.13 734.2807,-147.0428 740.344,-150.5409\"/>\n</g>\n<!-- 53 -->\n<g id=\"node20\" class=\"node\">\n<title>53</title>\n<polygon fill=\"#c0c0c0\" stroke=\"#000000\" points=\"630,-36 576,-36 576,0 630,0 630,-36\"/>\n<text text-anchor=\"middle\" x=\"603\" y=\"-14.3\" font-family=\"Times,serif\" font-size=\"14.00\" fill=\"#000000\">(...)</text>\n</g>\n<!-- 52&#45;&gt;53 -->\n<g id=\"edge19\" class=\"edge\">\n<title>52&#45;&gt;53</title>\n<path fill=\"none\" stroke=\"#000000\" d=\"M627.535,-71.9769C623.553,-63.2167 619.318,-53.8995 615.5071,-45.5157\"/>\n<polygon fill=\"#000000\" stroke=\"#000000\" points=\"618.5934,-43.8473 611.2691,-36.192 612.2209,-46.744 618.5934,-43.8473\"/>\n</g>\n<!-- 56 -->\n<g id=\"node21\" class=\"node\">\n<title>56</title>\n<polygon fill=\"#c0c0c0\" stroke=\"#000000\" points=\"702,-36 648,-36 648,0 702,0 702,-36\"/>\n<text text-anchor=\"middle\" x=\"675\" y=\"-14.3\" font-family=\"Times,serif\" font-size=\"14.00\" fill=\"#000000\">(...)</text>\n</g>\n<!-- 52&#45;&gt;56 -->\n<g id=\"edge20\" class=\"edge\">\n<title>52&#45;&gt;56</title>\n<path fill=\"none\" stroke=\"#000000\" d=\"M655.372,-71.9769C658.5229,-63.3119 661.872,-54.102 664.8948,-45.7894\"/>\n<polygon fill=\"#000000\" stroke=\"#000000\" points=\"668.2565,-46.786 668.3847,-36.192 661.678,-44.3938 668.2565,-46.786\"/>\n</g>\n<!-- 64 -->\n<g id=\"node23\" class=\"node\">\n<title>64</title>\n<polygon fill=\"#c0c0c0\" stroke=\"#000000\" points=\"774,-36 720,-36 720,0 774,0 774,-36\"/>\n<text text-anchor=\"middle\" x=\"747\" y=\"-14.3\" font-family=\"Times,serif\" font-size=\"14.00\" fill=\"#000000\">(...)</text>\n</g>\n<!-- 63&#45;&gt;64 -->\n<g id=\"edge22\" class=\"edge\">\n<title>63&#45;&gt;64</title>\n<path fill=\"none\" stroke=\"#000000\" d=\"M756.2006,-71.9769C754.7399,-63.4071 753.1882,-54.3043 751.7836,-46.0638\"/>\n<polygon fill=\"#000000\" stroke=\"#000000\" points=\"755.2315,-45.4616 750.1009,-36.192 748.3311,-46.6379 755.2315,-45.4616\"/>\n</g>\n<!-- 65 -->\n<g id=\"node24\" class=\"node\">\n<title>65</title>\n<polygon fill=\"#c0c0c0\" stroke=\"#000000\" points=\"846,-36 792,-36 792,0 846,0 846,-36\"/>\n<text text-anchor=\"middle\" x=\"819\" y=\"-14.3\" font-family=\"Times,serif\" font-size=\"14.00\" fill=\"#000000\">(...)</text>\n</g>\n<!-- 63&#45;&gt;65 -->\n<g id=\"edge23\" class=\"edge\">\n<title>63&#45;&gt;65</title>\n<path fill=\"none\" stroke=\"#000000\" d=\"M784.0377,-71.9769C789.897,-62.931 796.1409,-53.2913 801.7066,-44.6986\"/>\n<polygon fill=\"#000000\" stroke=\"#000000\" points=\"804.7177,-46.4879 807.2166,-36.192 798.8425,-42.6823 804.7177,-46.4879\"/>\n</g>\n<!-- 67 -->\n<g id=\"node26\" class=\"node\">\n<title>67</title>\n<polygon fill=\"#e78c4b\" stroke=\"#000000\" points=\"959.5,-140 832.5,-140 832.5,-72 959.5,-72 959.5,-140\"/>\n<text text-anchor=\"middle\" x=\"896\" y=\"-124.8\" font-family=\"Times,serif\" font-size=\"14.00\" fill=\"#000000\">PTRATIO &lt;= 14.8</text>\n<text text-anchor=\"middle\" x=\"896\" y=\"-109.8\" font-family=\"Times,serif\" font-size=\"14.00\" fill=\"#000000\">mse = 15.703</text>\n<text text-anchor=\"middle\" x=\"896\" y=\"-94.8\" font-family=\"Times,serif\" font-size=\"14.00\" fill=\"#000000\">samples = 25</text>\n<text text-anchor=\"middle\" x=\"896\" y=\"-79.8\" font-family=\"Times,serif\" font-size=\"14.00\" fill=\"#000000\">value = 46.18</text>\n</g>\n<!-- 66&#45;&gt;67 -->\n<g id=\"edge25\" class=\"edge\">\n<title>66&#45;&gt;67</title>\n<path fill=\"none\" stroke=\"#000000\" d=\"M896,-175.9465C896,-167.776 896,-158.9318 896,-150.3697\"/>\n<polygon fill=\"#000000\" stroke=\"#000000\" points=\"899.5001,-150.13 896,-140.13 892.5001,-150.13 899.5001,-150.13\"/>\n</g>\n<!-- 82 -->\n<g id=\"node29\" class=\"node\">\n<title>82</title>\n<polygon fill=\"#f2c19d\" stroke=\"#000000\" points=\"1087,-140 983,-140 983,-72 1087,-72 1087,-140\"/>\n<text text-anchor=\"middle\" x=\"1035\" y=\"-124.8\" font-family=\"Times,serif\" font-size=\"14.00\" fill=\"#000000\">TAX &lt;= 444.5</text>\n<text text-anchor=\"middle\" x=\"1035\" y=\"-109.8\" font-family=\"Times,serif\" font-size=\"14.00\" fill=\"#000000\">mse = 44.222</text>\n<text text-anchor=\"middle\" x=\"1035\" y=\"-94.8\" font-family=\"Times,serif\" font-size=\"14.00\" fill=\"#000000\">samples = 2</text>\n<text text-anchor=\"middle\" x=\"1035\" y=\"-79.8\" font-family=\"Times,serif\" font-size=\"14.00\" fill=\"#000000\">value = 28.55</text>\n</g>\n<!-- 66&#45;&gt;82 -->\n<g id=\"edge28\" class=\"edge\">\n<title>66&#45;&gt;82</title>\n<path fill=\"none\" stroke=\"#000000\" d=\"M941.5138,-175.9465C954.234,-166.4293 968.176,-155.9978 981.3206,-146.163\"/>\n<polygon fill=\"#000000\" stroke=\"#000000\" points=\"983.4738,-148.9232 989.3839,-140.13 979.2802,-143.3184 983.4738,-148.9232\"/>\n</g>\n<!-- 68 -->\n<g id=\"node27\" class=\"node\">\n<title>68</title>\n<polygon fill=\"#c0c0c0\" stroke=\"#000000\" points=\"918,-36 864,-36 864,0 918,0 918,-36\"/>\n<text text-anchor=\"middle\" x=\"891\" y=\"-14.3\" font-family=\"Times,serif\" font-size=\"14.00\" fill=\"#000000\">(...)</text>\n</g>\n<!-- 67&#45;&gt;68 -->\n<g id=\"edge26\" class=\"edge\">\n<title>67&#45;&gt;68</title>\n<path fill=\"none\" stroke=\"#000000\" d=\"M894.0669,-71.9769C893.5854,-63.5023 893.0742,-54.5065 892.6102,-46.3388\"/>\n<polygon fill=\"#000000\" stroke=\"#000000\" points=\"896.0954,-45.9773 892.0336,-36.192 889.1066,-46.3744 896.0954,-45.9773\"/>\n</g>\n<!-- 75 -->\n<g id=\"node28\" class=\"node\">\n<title>75</title>\n<polygon fill=\"#c0c0c0\" stroke=\"#000000\" points=\"990,-36 936,-36 936,0 990,0 990,-36\"/>\n<text text-anchor=\"middle\" x=\"963\" y=\"-14.3\" font-family=\"Times,serif\" font-size=\"14.00\" fill=\"#000000\">(...)</text>\n</g>\n<!-- 67&#45;&gt;75 -->\n<g id=\"edge27\" class=\"edge\">\n<title>67&#45;&gt;75</title>\n<path fill=\"none\" stroke=\"#000000\" d=\"M921.9039,-71.9769C928.9361,-62.7406 936.4397,-52.8851 943.0848,-44.1573\"/>\n<polygon fill=\"#000000\" stroke=\"#000000\" points=\"945.8763,-46.2686 949.1493,-36.192 940.3068,-42.0282 945.8763,-46.2686\"/>\n</g>\n<!-- 83 -->\n<g id=\"node30\" class=\"node\">\n<title>83</title>\n<polygon fill=\"#c0c0c0\" stroke=\"#000000\" points=\"1062,-36 1008,-36 1008,0 1062,0 1062,-36\"/>\n<text text-anchor=\"middle\" x=\"1035\" y=\"-14.3\" font-family=\"Times,serif\" font-size=\"14.00\" fill=\"#000000\">(...)</text>\n</g>\n<!-- 82&#45;&gt;83 -->\n<g id=\"edge29\" class=\"edge\">\n<title>82&#45;&gt;83</title>\n<path fill=\"none\" stroke=\"#000000\" d=\"M1035,-71.9769C1035,-63.5023 1035,-54.5065 1035,-46.3388\"/>\n<polygon fill=\"#000000\" stroke=\"#000000\" points=\"1038.5001,-46.1919 1035,-36.192 1031.5001,-46.192 1038.5001,-46.1919\"/>\n</g>\n<!-- 84 -->\n<g id=\"node31\" class=\"node\">\n<title>84</title>\n<polygon fill=\"#c0c0c0\" stroke=\"#000000\" points=\"1134,-36 1080,-36 1080,0 1134,0 1134,-36\"/>\n<text text-anchor=\"middle\" x=\"1107\" y=\"-14.3\" font-family=\"Times,serif\" font-size=\"14.00\" fill=\"#000000\">(...)</text>\n</g>\n<!-- 82&#45;&gt;84 -->\n<g id=\"edge30\" class=\"edge\">\n<title>82&#45;&gt;84</title>\n<path fill=\"none\" stroke=\"#000000\" d=\"M1062.8371,-71.9769C1070.3941,-62.7406 1078.4576,-52.8851 1085.5986,-44.1573\"/>\n<polygon fill=\"#000000\" stroke=\"#000000\" points=\"1088.4921,-46.1479 1092.1157,-36.192 1083.0744,-41.7152 1088.4921,-46.1479\"/>\n</g>\n</g>\n</svg>\n"
          },
          "metadata": {
            "tags": []
          },
          "execution_count": 63
        }
      ]
    },
    {
      "cell_type": "code",
      "metadata": {
        "id": "dCYfRqi6L9xX",
        "colab_type": "code",
        "colab": {
          "base_uri": "https://localhost:8080/",
          "height": 192
        },
        "outputId": "e09855e9-2494-4ad9-a7b9-6e5d1eaff2b6"
      },
      "source": [
        "from sklearn.metrics import r2_score\n",
        "pre = reg.predict(x_test)\n",
        "print(\"predict:\", pre)\n",
        "print(\"r2 score:\", r2_score(y_test, pre))"
      ],
      "execution_count": 62,
      "outputs": [
        {
          "output_type": "stream",
          "text": [
            "predict: [20.73495935 20.73495935 20.73495935 20.73495935 20.73495935 20.73495935\n",
            " 50.         20.73495935 20.73495935 28.14285714 20.73495935  9.2862069\n",
            " 24.65       20.73495935 20.73495935 20.73495935 43.8        20.73495935\n",
            " 16.48684211 16.48684211 20.73495935 26.84230769 23.07142857 14.84736842\n",
            "  9.2862069  20.73495935 23.07142857 26.84230769 20.73495935 20.73495935\n",
            " 20.73495935 14.84736842 16.48684211  9.2862069  17.8        20.73495935\n",
            " 18.35       20.73495935 35.2        50.          9.2862069  20.73495935\n",
            " 20.73495935 20.73495935  9.2862069  24.65       20.73495935 14.84736842\n",
            " 34.544      27.025      20.73495935]\n",
            "r2 score: 0.9039451136076169\n"
          ],
          "name": "stdout"
        }
      ]
    }
  ]
}